{
 "cells": [
  {
   "cell_type": "markdown",
   "metadata": {},
   "source": [
    "# Business Problem"
   ]
  },
  {
   "cell_type": "markdown",
   "metadata": {},
   "source": [
    "\"Black Hide Steakhouse\" is Brisbane's finest steakhouse restaurant that has over 60 years experience in the steak dining scene, especially wagyu and angus steak cuts, all 100% halal certified. The owners of the restaurant wants to expand their steak business in the country and they are very interested in opening a new restaurant in Sydney city."
   ]
  },
  {
   "cell_type": "markdown",
   "metadata": {},
   "source": [
    "Sydney is the most populous city in Australia and Oceania, with a metropolitan population of more than 5 million. Sydney was made up of 658 suburbs, 40 local government areas and 15 contiguous regions."
   ]
  },
  {
   "cell_type": "markdown",
   "metadata": {},
   "source": [
    "The Black Hide team has asked us to a study of different places in the city in order to get the best spot to open their second steakhouse that can guarantee them success."
   ]
  },
  {
   "cell_type": "markdown",
   "metadata": {},
   "source": [
    "The team has determined that we must pay special attention to tourists' hot spot and activities services, because they considered tourists as their primary customers. They also stresses that there are many steakhouses in the city, so we must pay attention to the steakhouses locations to avoid splitting of customers"
   ]
  },
  {
   "cell_type": "markdown",
   "metadata": {},
   "source": [
    "The project will include the obtaining information of the neighborhood and make recommendation of the best places for the client's restaurant."
   ]
  },
  {
   "cell_type": "code",
   "execution_count": null,
   "metadata": {},
   "outputs": [],
   "source": []
  }
 ],
 "metadata": {
  "kernelspec": {
   "display_name": "Python 3",
   "language": "python",
   "name": "python3"
  },
  "language_info": {
   "codemirror_mode": {
    "name": "ipython",
    "version": 3
   },
   "file_extension": ".py",
   "mimetype": "text/x-python",
   "name": "python",
   "nbconvert_exporter": "python",
   "pygments_lexer": "ipython3",
   "version": "3.6.5"
  }
 },
 "nbformat": 4,
 "nbformat_minor": 2
}
